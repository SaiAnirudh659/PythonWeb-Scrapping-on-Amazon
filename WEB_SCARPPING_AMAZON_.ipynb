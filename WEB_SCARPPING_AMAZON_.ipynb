{
  "nbformat": 4,
  "nbformat_minor": 0,
  "metadata": {
    "colab": {
      "provenance": []
    },
    "kernelspec": {
      "name": "python3",
      "display_name": "Python 3"
    },
    "language_info": {
      "name": "python"
    }
  },
  "cells": [
    {
      "cell_type": "code",
      "execution_count": 73,
      "metadata": {
        "colab": {
          "base_uri": "https://localhost:8080/"
        },
        "id": "-mtoKccNe4Z8",
        "outputId": "74097053-e865-4ccd-806e-1aa533c6d162"
      },
      "outputs": [
        {
          "output_type": "stream",
          "name": "stdout",
          "text": [
            "Looking in indexes: https://pypi.org/simple, https://us-python.pkg.dev/colab-wheels/public/simple/\n",
            "Requirement already satisfied: autoscraper in /usr/local/lib/python3.10/dist-packages (1.1.14)\n",
            "Requirement already satisfied: requests in /usr/local/lib/python3.10/dist-packages (from autoscraper) (2.27.1)\n",
            "Requirement already satisfied: bs4 in /usr/local/lib/python3.10/dist-packages (from autoscraper) (0.0.1)\n",
            "Requirement already satisfied: lxml in /usr/local/lib/python3.10/dist-packages (from autoscraper) (4.9.2)\n",
            "Requirement already satisfied: beautifulsoup4 in /usr/local/lib/python3.10/dist-packages (from bs4->autoscraper) (4.11.2)\n",
            "Requirement already satisfied: urllib3<1.27,>=1.21.1 in /usr/local/lib/python3.10/dist-packages (from requests->autoscraper) (1.26.15)\n",
            "Requirement already satisfied: certifi>=2017.4.17 in /usr/local/lib/python3.10/dist-packages (from requests->autoscraper) (2022.12.7)\n",
            "Requirement already satisfied: charset-normalizer~=2.0.0 in /usr/local/lib/python3.10/dist-packages (from requests->autoscraper) (2.0.12)\n",
            "Requirement already satisfied: idna<4,>=2.5 in /usr/local/lib/python3.10/dist-packages (from requests->autoscraper) (3.4)\n",
            "Requirement already satisfied: soupsieve>1.2 in /usr/local/lib/python3.10/dist-packages (from beautifulsoup4->bs4->autoscraper) (2.4.1)\n"
          ]
        }
      ],
      "source": [
        "pip install autoscraper"
      ]
    },
    {
      "cell_type": "code",
      "source": [
        "from autoscraper import AutoScraper"
      ],
      "metadata": {
        "id": "-1nVuz8igMIU"
      },
      "execution_count": 74,
      "outputs": []
    },
    {
      "cell_type": "code",
      "source": [
        "amazon_url=\"https://www.amazon.in/s?k=bags\"\n",
        "wanted_list=[\"Skybags Brat Black 46 Cms Casual Backpack\",\"₹669\",\"4,547\"]"
      ],
      "metadata": {
        "id": "qLFhw_Org89K"
      },
      "execution_count": 75,
      "outputs": []
    },
    {
      "cell_type": "code",
      "source": [
        "scraper=AutoScraper()\n",
        "result=scraper.build(amazon_url,wanted_list)\n",
        "print(result)"
      ],
      "metadata": {
        "colab": {
          "base_uri": "https://localhost:8080/"
        },
        "id": "alLGQ3Fyjhlo",
        "outputId": "bfdc34b2-2ce2-49c4-c4ac-d5b37973948b"
      },
      "execution_count": 76,
      "outputs": [
        {
          "output_type": "stream",
          "name": "stdout",
          "text": [
            "['Amazon\\'s Choicefor \"bags\"', 'Wesley Milestone 2.0 Casual Waterproof Laptop Backpack/Office Bag/School Bag/College Bag/Business Bag/Travel Backpack (Dimensions:13x18 inches) (Compatible with 39.62cm(15.6inch laptop) 30 L (Blue & black)', 'American Tourister 32 Ltrs Black Casual Backpack (AMT FIZZ SCH BAG 02 - BLACK)', 'Skybags Brat Black 46 Cms Casual Backpack', 'ADISA 15.6 inch Laptop Backpack Office Bag College Travel Back Pack 32 Ltrs (z-Navy Blue)', 'Best sellerin Laptop Backpacks', 'Half Moon 35L Water Resistant 15.6 inch Laptop Bag for Men/Backpack for Men, Navy Blue | Office Bag for Men/Office Bag for Women with Padded Laptop Compartment | Rain Cover & Reflective Strips', 'FUR JADEN Anti Theft Number Lock Backpack Bag with 15.6 Inch Laptop Compartment, USB Charging Port & Organizer Pocket for Men Women Boys Girls', 'Half Moon Large 37L Laptop Bag Backpack for menं Women Boys and Girls Luggage Travel Bags with 17.3 inches Laptop Compartment & Rain Cover', 'Fur Jaden Brown Textured Leatherette Stylish & Spacious Weekender Duffle Bag for Travel', 'TRUE HUMAN Emperor Anti-Theft backpack With USB charging Port Laptop Bag, Office bag, college bag and anti -theft back pocket (Black)', 'Best sellerin Bags, Wallets and Luggage', 'SAFARI 15 Ltrs Sea Blue Casual/School/College Backpack (DAYPACKNEO15CBSEB)', 'Wesley Spartan Unisex Travel Hiking Laptop Bag fits Upto 17.3 inch with Raincover and Internal Organiser Backpack Rucksack College Bag', \"Lunar's Bingo - 48 L Laptop Office/School/Travel/Business Backpack Water Resistant - Fits Up to 15.6 Inch Laptop Notebook with 1 Year Warranty\", 'Safari Seek 45 Ltrs Overnighter Expandable Travel Laptop Backpack', 'Lenovo 15.6\" (39.62cm) Slim Everyday Backpack, Made in India, Compact, Water-resistant, Organized storage:Laptop sleeve,tablet pocket,front workstation,2-side pockets,Padded adjustable shoulder straps', 'ADISA 32L Large Laptop Backpack Office Bag College Travel Back Pack with rain Cover (Grey)', 'Wesley Milestone 2.0 Casual Waterproof Laptop Backpack/Office Bag/School Bag/College Bag/Business Bag/Travel Backpack (Dim...', 'Half Moon 35L Water Resistant 15.6 inch Laptop Bag for Men/Backpack for Men, Navy Blue | Office Bag for Men/Office Bag for...', 'FUR JADEN Anti Theft Number Lock Backpack Bag with 15.6 Inch Laptop Compartment, USB Charging Port & Organizer Pocket for ...', 'Half Moon Large 37L Laptop Bag Backpack for menं Women Boys and Girls Luggage Travel Bags with 17.3 inches Laptop Compartm...', 'TRUE HUMAN Emperor Anti-Theft backpack With USB charging Port Laptop Bag, Office bag, college bag and anti -theft back poc...', 'Wesley Spartan Unisex Travel Hiking Laptop Bag fits Upto 17.3 inch with Raincover and Internal Organiser Backpack Rucksack...', \"Lunar's Bingo - 48 L Laptop Office/School/Travel/Business Backpack Water Resistant - Fits Up to 15.6 Inch Laptop Notebook ...\", 'Lenovo 15.6', '₹598', '₹1,199', '₹669', '₹499', '₹529', '₹699', '₹749', '₹899', '₹599', '₹248', '₹1,999', '₹649', '10,922', '(50% off)', '54,203', '(48% off)', '4,547', '(68% off)', '801', '(72% off)', '15,923', '(71% off)', '4,022', '(65% off)', '2,764', '(74% off)', '5,925', '(78% off)', '2,034', '19,027', '(69% off)', '1,273', 'FREE Delivery', '9,506', '(55% off)', '7,037', '(61% off)', '3,041', '(57% off)', '141', '(67% off)']\n"
          ]
        }
      ]
    },
    {
      "cell_type": "code",
      "source": [
        "scraper.get_result_similar (amazon_url,grouped=True)"
      ],
      "metadata": {
        "colab": {
          "base_uri": "https://localhost:8080/"
        },
        "id": "HCWUbUuYmcOQ",
        "outputId": "63457f94-7286-483a-a281-c009a161cdb9"
      },
      "execution_count": 79,
      "outputs": [
        {
          "output_type": "execute_result",
          "data": {
            "text/plain": [
              "{'rule_lxsf': ['Amazon\\'s Choicefor \"bags\"',\n",
              "  'Wesley Milestone 2.0 Casual Waterproof Laptop Backpack/Office Bag/School Bag/College Bag/Business Bag/Travel Backpack (Dimensions:13x18 inches) (Compatible with 39.62cm(15.6inch laptop) 30 L (Blue & black)',\n",
              "  'American Tourister 32 Ltrs Black Casual Backpack (AMT FIZZ SCH BAG 02 - BLACK)',\n",
              "  'Skybags Brat Black 46 Cms Casual Backpack',\n",
              "  'ADISA 15.6 inch Laptop Backpack Office Bag College Travel Back Pack 32 Ltrs (z-Navy Blue)',\n",
              "  'Best sellerin Laptop Backpacks',\n",
              "  'Half Moon 35L Water Resistant 15.6 inch Laptop Bag for Men/Backpack for Men, Navy Blue | Office Bag for Men/Office Bag for Women with Padded Laptop Compartment | Rain Cover & Reflective Strips',\n",
              "  'FUR JADEN Anti Theft Number Lock Backpack Bag with 15.6 Inch Laptop Compartment, USB Charging Port & Organizer Pocket for Men Women Boys Girls',\n",
              "  'Half Moon Large 37L Laptop Bag Backpack for menं Women Boys and Girls Luggage Travel Bags with 17.3 inches Laptop Compartment & Rain Cover',\n",
              "  'Fur Jaden Brown Textured Leatherette Stylish & Spacious Weekender Duffle Bag for Travel',\n",
              "  'TRUE HUMAN Emperor Anti-Theft backpack With USB charging Port Laptop Bag, Office bag, college bag and anti -theft back pocket (Black)',\n",
              "  'Best sellerin Bags, Wallets and Luggage',\n",
              "  'SAFARI 15 Ltrs Sea Blue Casual/School/College Backpack (DAYPACKNEO15CBSEB)',\n",
              "  'Wesley Spartan Unisex Travel Hiking Laptop Bag fits Upto 17.3 inch with Raincover and Internal Organiser Backpack Rucksack College Bag',\n",
              "  \"Lunar's Bingo - 48 L Laptop Office/School/Travel/Business Backpack Water Resistant - Fits Up to 15.6 Inch Laptop Notebook with 1 Year Warranty\",\n",
              "  'FUR JADEN Anti Theft Number Lock Backpack Bag with 15.6 Inch Laptop Compartment, USB Charging Port & Organizer Pocket for Men Women Boys Girls',\n",
              "  'Safari Seek 45 Ltrs Overnighter Expandable Travel Laptop Backpack',\n",
              "  'Lenovo 15.6\" (39.62cm) Slim Everyday Backpack, Made in India, Compact, Water-resistant, Organized storage:Laptop sleeve,tablet pocket,front workstation,2-side pockets,Padded adjustable shoulder straps',\n",
              "  'ADISA 32L Large Laptop Backpack Office Bag College Travel Back Pack with rain Cover (Grey)'],\n",
              " 'rule_52d9': ['Wesley Milestone 2.0 Casual Waterproof Laptop Backpack/Office Bag/School Bag/College Bag/Business Bag/Travel Backpack (Dim...',\n",
              "  'American Tourister 32 Ltrs Black Casual Backpack (AMT FIZZ SCH BAG 02 - BLACK)',\n",
              "  'Skybags Brat Black 46 Cms Casual Backpack',\n",
              "  'ADISA 15.6 inch Laptop Backpack Office Bag College Travel Back Pack 32 Ltrs (z-Navy Blue)',\n",
              "  'Half Moon 35L Water Resistant 15.6 inch Laptop Bag for Men/Backpack for Men, Navy Blue | Office Bag for Men/Office Bag for...',\n",
              "  'FUR JADEN Anti Theft Number Lock Backpack Bag with 15.6 Inch Laptop Compartment, USB Charging Port & Organizer Pocket for ...',\n",
              "  'Half Moon Large 37L Laptop Bag Backpack for menं Women Boys and Girls Luggage Travel Bags with 17.3 inches Laptop Compartm...',\n",
              "  'Fur Jaden Brown Textured Leatherette Stylish & Spacious Weekender Duffle Bag for Travel',\n",
              "  'TRUE HUMAN Emperor Anti-Theft backpack With USB charging Port Laptop Bag, Office bag, college bag and anti -theft back poc...',\n",
              "  'SAFARI 15 Ltrs Sea Blue Casual/School/College Backpack (DAYPACKNEO15CBSEB)',\n",
              "  'Wesley Spartan Unisex Travel Hiking Laptop Bag fits Upto 17.3 inch with Raincover and Internal Organiser Backpack Rucksack...',\n",
              "  \"Lunar's Bingo - 48 L Laptop Office/School/Travel/Business Backpack Water Resistant - Fits Up to 15.6 Inch Laptop Notebook ...\",\n",
              "  'FUR JADEN Anti Theft Number Lock Backpack Bag with 15.6 Inch Laptop Compartment, USB Charging Port & Organizer Pocket for ...',\n",
              "  'Safari Seek 45 Ltrs Overnighter Expandable Travel Laptop Backpack',\n",
              "  'Lenovo 15.6',\n",
              "  'ADISA 32L Large Laptop Backpack Office Bag College Travel Back Pack with rain Cover (Grey)'],\n",
              " 'rule_vmcf': ['₹598',\n",
              "  '₹1,199',\n",
              "  '₹669',\n",
              "  '₹499',\n",
              "  '₹529',\n",
              "  '₹699',\n",
              "  '₹749',\n",
              "  '₹899',\n",
              "  '₹599',\n",
              "  '₹248',\n",
              "  '₹899',\n",
              "  '₹699',\n",
              "  '₹1,999',\n",
              "  '₹649',\n",
              "  '₹599'],\n",
              " 'rule_ldin': ['₹598',\n",
              "  '₹1,199',\n",
              "  '₹669',\n",
              "  '₹499',\n",
              "  '₹529',\n",
              "  '₹699',\n",
              "  '₹749',\n",
              "  '₹899',\n",
              "  '₹599',\n",
              "  '₹248',\n",
              "  '₹899',\n",
              "  '₹699',\n",
              "  '₹1,999',\n",
              "  '₹649',\n",
              "  '₹599'],\n",
              " 'rule_r5b1': ['10,922',\n",
              "  '(50% off)',\n",
              "  '54,203',\n",
              "  '(48% off)',\n",
              "  '4,547',\n",
              "  '(68% off)',\n",
              "  '801',\n",
              "  '(72% off)',\n",
              "  '15,923',\n",
              "  '(71% off)',\n",
              "  '4,022',\n",
              "  '(65% off)',\n",
              "  '2,764',\n",
              "  '(74% off)',\n",
              "  '5,925',\n",
              "  '(78% off)',\n",
              "  '2,034',\n",
              "  '(71% off)',\n",
              "  '19,027',\n",
              "  '(69% off)',\n",
              "  '1,273',\n",
              "  'FREE Delivery',\n",
              "  '9,506',\n",
              "  '(55% off)',\n",
              "  '4,022',\n",
              "  '(65% off)',\n",
              "  '7,037',\n",
              "  '(61% off)',\n",
              "  '3,041',\n",
              "  '(57% off)',\n",
              "  '141',\n",
              "  '(67% off)']}"
            ]
          },
          "metadata": {},
          "execution_count": 79
        }
      ]
    },
    {
      "cell_type": "code",
      "source": [
        "scraper.set_rule_aliases({'rule_lxsf':'Title' , 'rule_vmcf': 'price','rule_r5b1':'rating' })\n",
        "scraper.keep_rules(['rule_lxsf','rule_vmcf','rule_r5b1'])\n",
        "scraper.save('amazon-search')"
      ],
      "metadata": {
        "id": "nmQ2ccTznolM"
      },
      "execution_count": 80,
      "outputs": []
    },
    {
      "cell_type": "code",
      "source": [
        "scraper.load('amazon-search')"
      ],
      "metadata": {
        "id": "TQpViiZpogo4"
      },
      "execution_count": 81,
      "outputs": []
    },
    {
      "cell_type": "code",
      "source": [
        "result=scraper.get_result_similar('https://www.amazon.in/s?k=bags&crid=2M096C61O4MLT&qid=1653308124&sprefix=ba%2Caps%2 C283&ref=sr_pg_1',group_by_alias=True)"
      ],
      "metadata": {
        "id": "xeL0ln-fo0Ty"
      },
      "execution_count": 82,
      "outputs": []
    },
    {
      "cell_type": "code",
      "source": [
        "result['Title']"
      ],
      "metadata": {
        "colab": {
          "base_uri": "https://localhost:8080/"
        },
        "id": "uXO14tVrsQF2",
        "outputId": "3b975e17-748b-485c-8d88-349ca21d23f1"
      },
      "execution_count": 91,
      "outputs": [
        {
          "output_type": "execute_result",
          "data": {
            "text/plain": [
              "['Amazon\\'s Choicefor \"bags\"',\n",
              " 'Wesley Milestone 2.0 Casual Waterproof Laptop Backpack/Office Bag/School Bag/College Bag/Business Bag/Travel Backpack (Dimensions:13x18 inches) (Compatible with 39.62cm(15.6inch laptop) 30 L (Blue & black)',\n",
              " 'American Tourister 32 Ltrs Black Casual Backpack (AMT FIZZ SCH BAG 02 - BLACK)',\n",
              " 'Skybags Brat Black 46 Cms Casual Backpack',\n",
              " 'ADISA 15.6 inch Laptop Backpack Office Bag College Travel Back Pack 32 Ltrs (z-Navy Blue)',\n",
              " 'Best sellerin Laptop Backpacks',\n",
              " 'Half Moon 35L Water Resistant 15.6 inch Laptop Bag for Men/Backpack for Men, Navy Blue | Office Bag for Men/Office Bag for Women with Padded Laptop Compartment | Rain Cover & Reflective Strips',\n",
              " 'FUR JADEN Anti Theft Number Lock Backpack Bag with 15.6 Inch Laptop Compartment, USB Charging Port & Organizer Pocket for Men Women Boys Girls',\n",
              " 'Half Moon Large 37L Laptop Bag Backpack for menं Women Boys and Girls Luggage Travel Bags with 17.3 inches Laptop Compartment & Rain Cover',\n",
              " 'Fur Jaden Brown Textured Leatherette Stylish & Spacious Weekender Duffle Bag for Travel',\n",
              " 'TRUE HUMAN Emperor Anti-Theft backpack With USB charging Port Laptop Bag, Office bag, college bag and anti -theft back pocket (Black)',\n",
              " 'Best sellerin Bags, Wallets and Luggage',\n",
              " 'SAFARI 15 Ltrs Sea Blue Casual/School/College Backpack (DAYPACKNEO15CBSEB)',\n",
              " 'Wesley Spartan Unisex Travel Hiking Laptop Bag fits Upto 17.3 inch with Raincover and Internal Organiser Backpack Rucksack College Bag',\n",
              " \"Lunar's Bingo - 48 L Laptop Office/School/Travel/Business Backpack Water Resistant - Fits Up to 15.6 Inch Laptop Notebook with 1 Year Warranty\",\n",
              " 'FUR JADEN Anti Theft Number Lock Backpack Bag with 15.6 Inch Laptop Compartment, USB Charging Port & Organizer Pocket for Men Women Boys Girls',\n",
              " 'Safari Seek 45 Ltrs Overnighter Expandable Travel Laptop Backpack',\n",
              " 'Lenovo 15.6\" (39.62cm) Slim Everyday Backpack, Made in India, Compact, Water-resistant, Organized storage:Laptop sleeve,tablet pocket,front workstation,2-side pockets,Padded adjustable shoulder straps',\n",
              " 'ADISA 32L Large Laptop Backpack Office Bag College Travel Back Pack with rain Cover (Grey)']"
            ]
          },
          "metadata": {},
          "execution_count": 91
        }
      ]
    },
    {
      "cell_type": "code",
      "source": [
        "fields = ['rating'] "
      ],
      "metadata": {
        "id": "Xnp83D53wutK"
      },
      "execution_count": 88,
      "outputs": []
    },
    {
      "cell_type": "code",
      "source": [
        "\n",
        "filename = \"annie26.csv\"\n",
        "\n",
        "with open(filename, 'w') as csvfile: \n",
        "\n",
        "    csvwriter = csv.writer(csvfile) \n",
        "\n",
        "    csvwriter.writerow(fields) \n",
        "\n",
        "    csvwriter.writerows(result['Title'])"
      ],
      "metadata": {
        "id": "6qtNKZICwS2i"
      },
      "execution_count": 92,
      "outputs": []
    },
    {
      "cell_type": "code",
      "source": [
        "import shutil\n",
        "current_loc = 'university_records.csv'\n",
        "new_loc = 'Desktop/test' + current_loc\n",
        "shutil.copy(current_loc, new_loc)"
      ],
      "metadata": {
        "id": "PGKXCZm7yEp7"
      },
      "execution_count": null,
      "outputs": []
    },
    {
      "cell_type": "code",
      "source": [
        "\n",
        "import pandas as pd  \n",
        "\n",
        "title = result['Title']\n",
        "title=title[0:10]\n",
        "price = result['price']\n",
        "price=price[0:10]\n",
        "rating = result['rating']\n",
        "rating=rating[0:10]\n",
        "\n",
        "dict = {'title': title, 'price': price, 'rating': rating}  \n",
        "\n",
        "df = pd.DataFrame(dict) \n",
        "\n",
        "df.to_csv('antpr.csv') "
      ],
      "metadata": {
        "id": "nfz9UjFy5KvD"
      },
      "execution_count": 104,
      "outputs": []
    }
  ]
}